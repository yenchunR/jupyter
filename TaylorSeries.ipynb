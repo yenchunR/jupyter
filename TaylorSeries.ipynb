{
 "cells": [
  {
   "cell_type": "markdown",
   "metadata": {},
   "source": [
    "<big><big>\n",
    "<big><b>Problem$^\\circ$.</b></big>\n",
    "Find the Taylor's Series of $f(x)=\\frac{1}{1+x}$ at $x=1$.\n",
    "\n",
    "1$^\\circ$. Geometric Series:\n",
    "     $$ \\frac{1}{1 + x} = \\sum_{n = 0}^{\\infty} (-1)^nx^n, \\text{ for } |x|<1. $$ \n",
    "2$^\\circ$. But we want to find:\n",
    "     $$ \\frac{1}{1 + x} = \\sum_{n = 0}^{\\infty} \\color{red}{a_n} (x-1)^n, \\text{ for } |x-1|<\\color{red}{a}. $$\n",
    "3$^\\circ$. Since the Taylor's series is **unique**, we will expand $f(x)$ by the result from 1$^\\circ$.\n",
    "\n",
    "4$^\\circ$. First, replace $x$ by $x-1$:\n",
    "    $$  \\frac{1}{1 + x}= \\frac{1}{2 + (x-1)}$$\n",
    "5$^\\circ$. Convert it similar to 1$^\\circ$.:\n",
    "    $$\\frac{1}{2 + (x-1)}=\\frac{1}{2}\\frac{1}{1 + \\left( \\color{brown}{\\frac{x - 1}{2}} \\right)}$$\n",
    "6$^\\circ$. And by the result from  1$^\\circ$., $x\\to\\color{brown}{\\frac{x - 1}{2}}$  we have:   \n",
    "$$\\frac{1}{1 + x}=\\frac{1}{2} \\sum_{n = 0}^{\\infty} (- 1)^n \\left(\n",
    "  \\color{brown}{\\frac{x - 1}{2}} \\right)^n= \\sum_{n = 0}^{\\infty} \\color{red}{\\frac{(- 1)^n}{2^{n+1}}}(x-1)^n$$\n",
    "  and convergent for $\\left|\\frac{x-1}{2} \\right|<1$, i.e. $|\\color{red}{x-1}|<2$ \n",
    "    \n",
    "<img src=\"imgs/7/cal6-4.png\" width=70%>    \n",
    "    </big></big>"
   ]
  },
  {
   "cell_type": "code",
   "execution_count": null,
   "metadata": {},
   "outputs": [],
   "source": []
  }
 ],
 "metadata": {
  "kernelspec": {
   "display_name": "Python 3",
   "language": "python",
   "name": "python3"
  },
  "language_info": {
   "codemirror_mode": {
    "name": "ipython",
    "version": 3
   },
   "file_extension": ".py",
   "mimetype": "text/x-python",
   "name": "python",
   "nbconvert_exporter": "python",
   "pygments_lexer": "ipython3",
   "version": "3.6.9"
  },
  "toc": {
   "colors": {
    "hover_highlight": "#DAA520",
    "navigate_num": "#000000",
    "navigate_text": "#333333",
    "running_highlight": "#FF0000",
    "selected_highlight": "#FFD700",
    "sidebar_border": "#EEEEEE",
    "wrapper_background": "#FFFFFF"
   },
   "moveMenuLeft": true,
   "nav_menu": {
    "height": "12px",
    "width": "252px"
   },
   "navigate_menu": true,
   "number_sections": true,
   "sideBar": true,
   "threshold": 4,
   "toc_cell": false,
   "toc_section_display": "block",
   "toc_window_display": false,
   "widenNotebook": false
  }
 },
 "nbformat": 4,
 "nbformat_minor": 2
}
